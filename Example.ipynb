{
 "cells": [
  {
   "cell_type": "code",
   "execution_count": 1,
   "metadata": {},
   "outputs": [],
   "source": [
    "import numpy as np\n",
    "from SyBoid_Data_Gen import SyBoid\n",
    "from Objectives import Objectives\n",
    "from sklearn.metrics.pairwise import nan_euclidean_distances"
   ]
  },
  {
   "cell_type": "code",
   "execution_count": null,
   "metadata": {},
   "outputs": [],
   "source": [
    "NumberOfBoids = 100\n",
    "Dimensions = 2\n",
    "Classes = 2\n",
    "F1_Score = 0.9\n",
    "N1_Score = 0.6\n",
    "Mimic_Classes = False \n",
    "Mimic_DataTypes = False\n",
    "Mimic_Dataset = False\n",
    "\n",
    "np.random.seed(0)\n",
    "X = np.random.uniform(0,1,(NumberOfBoids,Dimensions))\n",
    "y = np.random.randint(0,2,NumberOfBoids)\n",
    "\n",
    "pop, fits = SyBoid.Generate_Data(X, y, NumberOfBoids, Dimensions, Classes, F1_Score, \n",
    "                                    N1_Score,Mimic_Classes, Mimic_DataTypes, \n",
    "                                    Mimic_Dataset)"
   ]
  },
  {
   "cell_type": "code",
   "execution_count": null,
   "metadata": {},
   "outputs": [],
   "source": [
    "best_x = pop[np.argmin(nan_euclidean_distances(np.array([0,0]).reshape(1,-1),np.vstack(fits))[0])]\n",
    "X_fake, y_fake = SyBoid.return_best_dataset(X,y,best_x, Mimic_Classes, Mimic_DataTypes, Mimic_Dataset)\n",
    "print(\"F1: \", Objectives.F1(X_fake, y_fake))\n",
    "print(\"N1: \", Objectives.N1(X_fake, y_fake))"
   ]
  }
 ],
 "metadata": {
  "kernelspec": {
   "display_name": "SyBoid",
   "language": "python",
   "name": "syboid"
  },
  "language_info": {
   "codemirror_mode": {
    "name": "ipython",
    "version": 3
   },
   "file_extension": ".py",
   "mimetype": "text/x-python",
   "name": "python",
   "nbconvert_exporter": "python",
   "pygments_lexer": "ipython3",
   "version": "3.10.4"
  },
  "orig_nbformat": 4,
  "vscode": {
   "interpreter": {
    "hash": "d38ecb469a13417f6f347535f14488ce30a44b6d85c4856989098a831f9222ff"
   }
  }
 },
 "nbformat": 4,
 "nbformat_minor": 2
}
